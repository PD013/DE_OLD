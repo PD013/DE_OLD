{
  "nbformat": 4,
  "nbformat_minor": 0,
  "metadata": {
    "colab": {
      "provenance": []
    },
    "kernelspec": {
      "name": "python3",
      "display_name": "Python 3"
    },
    "language_info": {
      "name": "python"
    }
  },
  "cells": [
    {
      "cell_type": "markdown",
      "source": [
        "# **Homework**: Data talks club data engineering zoomcamp Data loading workshop\n",
        "\n",
        "Hello folks, let's practice what we learned - Loading data with the best practices of data engineering.\n",
        "\n",
        "Here are the exercises we will do\n",
        "\n",
        "\n"
      ],
      "metadata": {
        "id": "mrTFv5nPClXh"
      }
    },
    {
      "cell_type": "markdown",
      "source": [
        "# 1. Use a generator\n",
        "\n",
        "Remember the concept of generator? Let's practice using them to futher our understanding of how they work.\n",
        "\n",
        "Let's define a generator and then run it as practice.\n",
        "\n",
        "**Answer the following questions:**\n",
        "\n",
        "- **Question 1: What is the sum of the outputs of the generator for limit = 5?**\n",
        "- **Question 2: What is the 13th number yielded**\n",
        "\n",
        "I suggest practicing these questions without GPT as the purpose is to further your learning."
      ],
      "metadata": {
        "id": "wLF4iXf-NR7t"
      }
    },
    {
      "cell_type": "code",
      "source": [
        "def square_root_generator(limit):\n",
        "    n = 1\n",
        "    while n <= limit:\n",
        "        yield n ** 0.5\n",
        "        n += 1\n",
        "\n",
        "# Example usage:\n",
        "limit = 13\n",
        "sum = 0\n",
        "value = 1\n",
        "generator = square_root_generator(limit)\n",
        "\n",
        "for sqrt_value in generator:\n",
        "    print(f'This is {value}th value = ',sqrt_value)\n",
        "    value += 1\n",
        "    sum += sqrt_value\n",
        "\n",
        "\n",
        "print(\"Sum of square roots:\", sum)\n"
      ],
      "metadata": {
        "colab": {
          "base_uri": "https://localhost:8080/"
        },
        "id": "wLng-bDJN4jf",
        "outputId": "84feee57-ae67-427f-fd99-a046ee5d00d0"
      },
      "execution_count": null,
      "outputs": [
        {
          "output_type": "stream",
          "name": "stdout",
          "text": [
            "This is 1th value =  1.0\n",
            "This is 2th value =  1.4142135623730951\n",
            "This is 3th value =  1.7320508075688772\n",
            "This is 4th value =  2.0\n",
            "This is 5th value =  2.23606797749979\n",
            "This is 6th value =  2.449489742783178\n",
            "This is 7th value =  2.6457513110645907\n",
            "This is 8th value =  2.8284271247461903\n",
            "This is 9th value =  3.0\n",
            "This is 10th value =  3.1622776601683795\n",
            "This is 11th value =  3.3166247903554\n",
            "This is 12th value =  3.4641016151377544\n",
            "This is 13th value =  3.605551275463989\n",
            "Sum of square roots: 32.854555867161245\n"
          ]
        }
      ]
    },
    {
      "cell_type": "markdown",
      "source": [],
      "metadata": {
        "id": "xbe3q55zN43j"
      }
    },
    {
      "cell_type": "markdown",
      "source": [
        "# 2. Append a generator to a table with existing data\n",
        "\n",
        "\n",
        "Below you have 2 generators. You will be tasked to load them to duckdb and answer some questions from the data\n",
        "\n",
        "1. Load the first generator and calculate the sum of ages of all people. Make sure to only load it once.\n",
        "2. Append the second generator to the same table as the first.\n",
        "3. **After correctly appending the data, calculate the sum of all ages of people.**\n",
        "\n",
        "\n"
      ],
      "metadata": {
        "id": "vjWhILzGJMpK"
      }
    },
    {
      "cell_type": "code",
      "execution_count": null,
      "metadata": {
        "colab": {
          "base_uri": "https://localhost:8080/"
        },
        "id": "2MoaQcdLBEk6",
        "outputId": "5d5d7fdf-f257-43ac-990a-eae877f91ffa"
      },
      "outputs": [
        {
          "output_type": "stream",
          "name": "stdout",
          "text": [
            "{'ID': 1, 'Name': 'Person_1', 'Age': 26, 'City': 'City_A'}\n",
            "{'ID': 2, 'Name': 'Person_2', 'Age': 27, 'City': 'City_A'}\n",
            "{'ID': 3, 'Name': 'Person_3', 'Age': 28, 'City': 'City_A'}\n",
            "{'ID': 4, 'Name': 'Person_4', 'Age': 29, 'City': 'City_A'}\n",
            "{'ID': 5, 'Name': 'Person_5', 'Age': 30, 'City': 'City_A'}\n",
            "{'ID': 3, 'Name': 'Person_3', 'Age': 33, 'City': 'City_B', 'Occupation': 'Job_3'}\n",
            "{'ID': 4, 'Name': 'Person_4', 'Age': 34, 'City': 'City_B', 'Occupation': 'Job_4'}\n",
            "{'ID': 5, 'Name': 'Person_5', 'Age': 35, 'City': 'City_B', 'Occupation': 'Job_5'}\n",
            "{'ID': 6, 'Name': 'Person_6', 'Age': 36, 'City': 'City_B', 'Occupation': 'Job_6'}\n",
            "{'ID': 7, 'Name': 'Person_7', 'Age': 37, 'City': 'City_B', 'Occupation': 'Job_7'}\n",
            "{'ID': 8, 'Name': 'Person_8', 'Age': 38, 'City': 'City_B', 'Occupation': 'Job_8'}\n",
            "353\n"
          ]
        }
      ],
      "source": [
        "def people_1():\n",
        "    for i in range(1, 6):\n",
        "        yield {\"ID\": i, \"Name\": f\"Person_{i}\", \"Age\": 25 + i, \"City\": \"City_A\"}\n",
        "def people_2():\n",
        "    for i in range(3, 9):\n",
        "        yield {\"ID\": i, \"Name\": f\"Person_{i}\", \"Age\": 30 + i, \"City\": \"City_B\", \"Occupation\": f\"Job_{i}\"}\n",
        "\n",
        "\n",
        "sum_of_ages = 0\n",
        "for person in people_1():\n",
        "    sum_of_ages += person.get('Age')\n",
        "    print(person)\n",
        "for person in people_2():\n",
        "    sum_of_ages += person.get('Age')\n",
        "    print(person)\n",
        "print(sum_of_ages)\n",
        "\n",
        "# def people_2():\n",
        "#     for i in range(3, 9):\n",
        "#         yield {\"ID\": i, \"Name\": f\"Person_{i}\", \"Age\": 30 + i, \"City\": \"City_B\", \"Occupation\": f\"Job_{i}\"}\n",
        "\n",
        "\n",
        "# for person in people_2():\n",
        "#     print(person)\n"
      ]
    },
    {
      "cell_type": "code",
      "source": [
        "import duckdb\n",
        "\n",
        "# Define the DuckDB connection\n",
        "conn = duckdb.connect(database=':memory:', read_only=False)\n",
        "\n",
        "# Create a DuckDB table to store the data\n",
        "conn.execute(\"CREATE TABLE people (ID INTEGER, Name STRING, Age INTEGER, City STRING, Occupation STRING)\")\n",
        "\n",
        "# Define the first generator and load its data into the DuckDB table\n",
        "for person in people_1():\n",
        "    conn.execute(\"INSERT INTO people VALUES (?, ?, ?, ?, NULL)\", [person[\"ID\"], person[\"Name\"], person[\"Age\"], person[\"City\"]])\n",
        "\n",
        "# Define the second generator and append its data to the same DuckDB table\n",
        "for person in people_2():\n",
        "    conn.execute(\"INSERT INTO people VALUES (?, ?, ?, ?, ?)\", [person[\"ID\"], person[\"Name\"], person[\"Age\"], person[\"City\"], person[\"Occupation\"]])\n",
        "\n",
        "# Calculate the sum of ages from the DuckDB table\n",
        "result = conn.execute(\"SELECT SUM(Age) FROM people\").fetchall()\n",
        "\n",
        "# Print the result\n",
        "print(\"Sum of Ages:\", result[0][0])\n"
      ],
      "metadata": {
        "colab": {
          "base_uri": "https://localhost:8080/"
        },
        "id": "qsUe1hn2YeYK",
        "outputId": "1b477d44-e18e-4024-823c-d51f01d03d94"
      },
      "execution_count": null,
      "outputs": [
        {
          "output_type": "stream",
          "name": "stdout",
          "text": [
            "Sum of Ages: 353\n"
          ]
        }
      ]
    },
    {
      "cell_type": "markdown",
      "source": [],
      "metadata": {
        "id": "vtdTIm4fvQCN"
      }
    },
    {
      "cell_type": "markdown",
      "source": [
        "# 3. Merge a generator\n",
        "\n",
        "Re-use the generators from Exercise 2.\n",
        "\n",
        "A table's primary key needs to be created from the start, so load your data to a new table with primary key ID.\n",
        "\n",
        "Load your first generator first, and then load the second one with merge. Since they have overlapping IDs, some of the records from the first load should be replaced by the ones from the second load.\n",
        "\n",
        "After loading, you should have a total of 8 records, and ID 3 should have age 33.\n",
        "\n",
        "Question: **Calculate the sum of ages of all the people loaded as described above.**\n"
      ],
      "metadata": {
        "id": "pY4cFAWOSwN1"
      }
    },
    {
      "cell_type": "markdown",
      "source": [
        "# Solution: First make sure that the following modules are installed:"
      ],
      "metadata": {
        "id": "kKB2GTB9oVjr"
      }
    },
    {
      "cell_type": "code",
      "source": [
        "#Install the dependencies\n",
        "%%capture\n",
        "!pip install dlt[duckdb]"
      ],
      "metadata": {
        "id": "xTVvtyqrfVNq"
      },
      "execution_count": null,
      "outputs": []
    },
    {
      "cell_type": "code",
      "source": [
        "import duckdb\n",
        "\n",
        "# Define the DuckDB connection\n",
        "conn = duckdb.connect(database=':memory:', read_only=False)\n",
        "\n",
        "# Create a DuckDB table with a primary key on ID\n",
        "conn.execute(\"CREATE TABLE people_merged (ID INTEGER PRIMARY KEY, Name STRING, Age INTEGER, City STRING, Occupation STRING)\")\n",
        "\n",
        "# Define the first generator and load its data into the DuckDB table\n",
        "for person in people_1():\n",
        "    conn.execute(\"INSERT INTO people_merged VALUES (?, ?, ?, ?, NULL)\", [person[\"ID\"], person[\"Name\"], person[\"Age\"], person[\"City\"]])\n",
        "\n",
        "# Define the second generator and load its data into the DuckDB table with ON CONFLICT\n",
        "for person in people_2():\n",
        "    conn.execute(\"INSERT INTO people_merged VALUES (?, ?, ?, ?, ?) ON CONFLICT(ID) DO UPDATE SET Name=excluded.Name, Age=excluded.Age, City=excluded.City, Occupation=excluded.Occupation\",\n",
        "                 [person[\"ID\"], person[\"Name\"], person[\"Age\"], person[\"City\"], person[\"Occupation\"]])\n",
        "\n",
        "# Calculate the sum of ages from the DuckDB table\n",
        "result = conn.execute(\"SELECT SUM(Age) FROM people_merged\").fetchall()\n",
        "\n",
        "# Print the result\n",
        "print(\"Sum of Ages:\", result[0][0])\n"
      ],
      "metadata": {
        "id": "a2-PRBAkGC2K",
        "colab": {
          "base_uri": "https://localhost:8080/"
        },
        "outputId": "cbe19b31-5f65-4073-d35f-c2c8a949c745"
      },
      "execution_count": null,
      "outputs": [
        {
          "output_type": "stream",
          "name": "stdout",
          "text": [
            "Sum of Ages: 266\n"
          ]
        }
      ]
    },
    {
      "cell_type": "markdown",
      "source": [
        "Questions? difficulties? We are here to help.\n",
        "- DTC data engineering course channel: https://datatalks-club.slack.com/archives/C01FABYF2RG\n",
        "- dlt's DTC cohort channel: https://dlthub-community.slack.com/archives/C06GAEX2VNX"
      ],
      "metadata": {
        "id": "PoTJu4kbGG0z"
      }
    }
  ]
}